{
 "cells": [
  {
   "cell_type": "markdown",
   "metadata": {},
   "source": [
    "## Insertion sort\n",
    "\n",
    "The pseudocode is as follows:\n",
    "\n",
    "i ← 1\n",
    "\n",
    "while i < length(A)\n",
    "\n",
    "    j ← i\n",
    "    \n",
    "    while j > 0 and A[j-1] > A[j]\n",
    "    \n",
    "        swap A[j] and A[j-1]\n",
    "        \n",
    "        j ← j - 1\n",
    "        \n",
    "    end while\n",
    "    \n",
    "    i ← i + 1\n",
    "    \n",
    "end while\n",
    "\n"
   ]
  },
  {
   "cell_type": "code",
   "execution_count": 101,
   "metadata": {
    "collapsed": true
   },
   "outputs": [],
   "source": [
    "import numpy as np\n",
    "import timeit"
   ]
  },
  {
   "cell_type": "code",
   "execution_count": 102,
   "metadata": {},
   "outputs": [],
   "source": [
    "start=timeit.default_timer()\n",
    "\n",
    "unsorted_list=np.random.rand(20000)\n",
    "#print(unsorted_list)"
   ]
  },
  {
   "cell_type": "code",
   "execution_count": 103,
   "metadata": {},
   "outputs": [],
   "source": [
    "i=0\n",
    "while i<len(unsorted_list):\n",
    "    j=i\n",
    "    while (j>0) and (unsorted_list[j-1]>unsorted_list[j]):\n",
    "        element1=unsorted_list[j-1]\n",
    "        element2=unsorted_list[j]\n",
    "        unsorted_list[j-1]=element2\n",
    "        unsorted_list[j]=element1\n",
    "        j=j-1\n",
    "    i=i+1\n",
    "sorted_list=unsorted_list\n",
    "\n",
    "#print(sorted_list)\n",
    "\n",
    "stop=timeit.default_timer()"
   ]
  },
  {
   "cell_type": "code",
   "execution_count": 104,
   "metadata": {},
   "outputs": [
    {
     "name": "stdout",
     "output_type": "stream",
     "text": [
      "23.186747294967063\n"
     ]
    }
   ],
   "source": [
    "d=stop-start\n",
    "print(d)"
   ]
  }
 ],
 "metadata": {
  "kernelspec": {
   "display_name": "Python 3",
   "language": "python",
   "name": "python3"
  },
  "language_info": {
   "codemirror_mode": {
    "name": "ipython",
    "version": 3
   },
   "file_extension": ".py",
   "mimetype": "text/x-python",
   "name": "python",
   "nbconvert_exporter": "python",
   "pygments_lexer": "ipython3",
   "version": "3.6.3"
  }
 },
 "nbformat": 4,
 "nbformat_minor": 2
}
